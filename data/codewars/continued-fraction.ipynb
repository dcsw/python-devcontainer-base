{
 "cells": [
  {
   "cell_type": "code",
   "execution_count": 4,
   "metadata": {},
   "outputs": [
    {
     "name": "stdout",
     "output_type": "stream",
     "text": [
      "[4, 2, 6, 7]\n"
     ]
    }
   ],
   "source": [
    "def continued_fraction(nu: int, de:int) -> list[int]:\n",
    "    cfs = []\n",
    "    a = nu\n",
    "    b = de\n",
    "    while a > 0 and b > 0 and len(cfs) < 50:\n",
    "        cfs.append(a // b)\n",
    "        r = a % b\n",
    "        a = b\n",
    "        b = r\n",
    "    return cfs\n",
    "print(continued_fraction(415, 93))\n"
   ]
  }
 ],
 "metadata": {
  "kernelspec": {
   "display_name": "base",
   "language": "python",
   "name": "python3"
  },
  "language_info": {
   "codemirror_mode": {
    "name": "ipython",
    "version": 3
   },
   "file_extension": ".py",
   "mimetype": "text/x-python",
   "name": "python",
   "nbconvert_exporter": "python",
   "pygments_lexer": "ipython3",
   "version": "3.11.7"
  }
 },
 "nbformat": 4,
 "nbformat_minor": 2
}
